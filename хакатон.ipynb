{
  "nbformat": 4,
  "nbformat_minor": 0,
  "metadata": {
    "colab": {
      "name": "хакатон",
      "provenance": [],
      "collapsed_sections": [],
      "include_colab_link": true
    },
    "kernelspec": {
      "name": "python3",
      "display_name": "Python 3"
    },
    "language_info": {
      "name": "python"
    }
  },
  "cells": [
    {
      "cell_type": "markdown",
      "metadata": {
        "id": "view-in-github",
        "colab_type": "text"
      },
      "source": [
        "<a href=\"https://colab.research.google.com/github/datasaurs/datasaurs.github.io/blob/main/%D1%85%D0%B0%D0%BA%D0%B0%D1%82%D0%BE%D0%BD.ipynb\" target=\"_parent\"><img src=\"https://colab.research.google.com/assets/colab-badge.svg\" alt=\"Open In Colab\"/></a>"
      ]
    },
    {
      "cell_type": "markdown",
      "metadata": {
        "id": "VppuD-6-VRPJ"
      },
      "source": [
        "## Загужаем необходимые библиотеки"
      ]
    },
    {
      "cell_type": "code",
      "metadata": {
        "id": "fBSwLD3cTLJH"
      },
      "source": [
        "import pandas as pd\n",
        "from sklearn.linear_model import LinearRegression\n",
        "from sklearn.model_selection import train_test_split\n",
        "from sklearn.metrics import mean_squared_error\n",
        "import math"
      ],
      "execution_count": 2,
      "outputs": []
    },
    {
      "cell_type": "markdown",
      "metadata": {
        "id": "XLOmKREV3GQm"
      },
      "source": [
        "#РАБОТА АЛГОРИТМА"
      ]
    },
    {
      "cell_type": "code",
      "metadata": {
        "id": "3iVz23lxSaQT"
      },
      "source": [
        "data =  pd.read_excel('test3.xlsx')"
      ],
      "execution_count": 3,
      "outputs": []
    },
    {
      "cell_type": "code",
      "metadata": {
        "id": "QZNVqXbdSq-a"
      },
      "source": [
        "data.head()"
      ],
      "execution_count": null,
      "outputs": []
    },
    {
      "cell_type": "code",
      "metadata": {
        "colab": {
          "base_uri": "https://localhost:8080/"
        },
        "id": "UIwBF1eFSr_z",
        "outputId": "cdd84efe-2fc7-4bb2-8eaf-4a3aea0acaef"
      },
      "source": [
        "data.columns"
      ],
      "execution_count": 4,
      "outputs": [
        {
          "output_type": "execute_result",
          "data": {
            "text/plain": [
              "Index(['fireid', 'date', 'temperature', 'speed_wind', 's', 's_coeff', 'lat',\n",
              "       'lon', 'north', 'south', 'west', 'east', 'n-west', 'n-east', 's-west',\n",
              "       's-east'],\n",
              "      dtype='object')"
            ]
          },
          "metadata": {},
          "execution_count": 4
        }
      ]
    },
    {
      "cell_type": "code",
      "metadata": {
        "id": "4PRyfDSWTSIC"
      },
      "source": [
        "x = data[['temperature', 'speed_wind']]\n",
        "y = data['s']"
      ],
      "execution_count": 6,
      "outputs": []
    },
    {
      "cell_type": "code",
      "metadata": {
        "id": "2oIcbgQzTaE3"
      },
      "source": [
        "lr = LinearRegression()"
      ],
      "execution_count": 7,
      "outputs": []
    },
    {
      "cell_type": "code",
      "metadata": {
        "colab": {
          "base_uri": "https://localhost:8080/"
        },
        "id": "2nRpY3aLTc9F",
        "outputId": "5581a4b2-0064-4f70-d3e6-b3638584ad1d"
      },
      "source": [
        "lr.fit(x, y)"
      ],
      "execution_count": 8,
      "outputs": [
        {
          "output_type": "execute_result",
          "data": {
            "text/plain": [
              "LinearRegression(copy_X=True, fit_intercept=True, n_jobs=None, normalize=False)"
            ]
          },
          "metadata": {},
          "execution_count": 8
        }
      ]
    },
    {
      "cell_type": "code",
      "metadata": {
        "id": "X-N-XeCBTzMZ"
      },
      "source": [
        "x = data[['speed_wind','north', 'south', 'west', 'east', 'n-west', 'n-east', 's-west','s-east']]\n",
        "y_lat = data['lat']"
      ],
      "execution_count": 9,
      "outputs": []
    },
    {
      "cell_type": "code",
      "metadata": {
        "id": "hszsBB-hUIva"
      },
      "source": [
        "y_lon = data['lon']"
      ],
      "execution_count": 10,
      "outputs": []
    },
    {
      "cell_type": "code",
      "metadata": {
        "id": "6toOn8f9USZJ"
      },
      "source": [
        "lr_lat = LinearRegression()"
      ],
      "execution_count": 11,
      "outputs": []
    },
    {
      "cell_type": "code",
      "metadata": {
        "id": "bagUwXhZUa7o"
      },
      "source": [
        "lr_lon = LinearRegression()"
      ],
      "execution_count": 12,
      "outputs": []
    },
    {
      "cell_type": "code",
      "metadata": {
        "colab": {
          "base_uri": "https://localhost:8080/"
        },
        "id": "jRTAX1azUdM6",
        "outputId": "eefdeca1-c5ff-43bb-d5dc-ae663af02cfc"
      },
      "source": [
        "lr_lat.fit(x, y_lat)"
      ],
      "execution_count": 13,
      "outputs": [
        {
          "output_type": "execute_result",
          "data": {
            "text/plain": [
              "LinearRegression(copy_X=True, fit_intercept=True, n_jobs=None, normalize=False)"
            ]
          },
          "metadata": {},
          "execution_count": 13
        }
      ]
    },
    {
      "cell_type": "code",
      "metadata": {
        "colab": {
          "base_uri": "https://localhost:8080/"
        },
        "id": "PkQKPY1SUg77",
        "outputId": "871cfc75-cc07-4fb2-ab0f-e77c28e82198"
      },
      "source": [
        "lr_lon.fit(x, y_lon)"
      ],
      "execution_count": 14,
      "outputs": [
        {
          "output_type": "execute_result",
          "data": {
            "text/plain": [
              "LinearRegression(copy_X=True, fit_intercept=True, n_jobs=None, normalize=False)"
            ]
          },
          "metadata": {},
          "execution_count": 14
        }
      ]
    },
    {
      "cell_type": "markdown",
      "metadata": {
        "id": "kFMqapiPGtTb"
      },
      "source": [
        "#ОБУЧЕНИЕ ЗАКОНЧИЛОСЬ"
      ]
    },
    {
      "cell_type": "code",
      "metadata": {
        "id": "kYZYu0LfUlzi"
      },
      "source": [
        "df_pred_c =  pd.read_excel('pred.xlsx')\n",
        "df_real =  pd.read_excel('real_data.xlsx')\n",
        "df_pred_p =  pd.read_excel('pred.xlsx')\n",
        "fir = data.iloc[[0]]"
      ],
      "execution_count": 15,
      "outputs": []
    },
    {
      "cell_type": "code",
      "metadata": {
        "colab": {
          "base_uri": "https://localhost:8080/"
        },
        "id": "7PIH4E4EHMRt",
        "outputId": "f4ccc5be-256a-4644-f929-be5230d09fa8"
      },
      "source": [
        "sum =0\n",
        "for i in range(2):\n",
        "  df_pred = pd.DataFrame(df_pred_p.iloc[i][['temperature','speed_wind']]).T\n",
        "  predict = lr.predict(df_pred)\n",
        "  s_pred = predict[0]\n",
        "  df_pred_coor = pd.DataFrame(df_pred_c.iloc[i][['speed_wind','north', 'south', 'west', 'east', 'n-west', 'n-east', 's-west','s-east']]).T\n",
        "  predict_lat = lr_lat.predict(df_pred_coor)\n",
        "  lat=predict_lat[0]\n",
        "  predict_lon = lr_lon.predict(df_pred_coor)\n",
        "  lon = predict_lon[0]\n",
        "  d_real = pd.DataFrame(df_real.iloc[i][['s','lat', 'lon']]).T\n",
        "  d_real.head()\n",
        "  len=math.sqrt((abs(lon-d_real['lon']))**2 + (abs(lat-d_real['lat']))**2)\n",
        "  s_and=math.sqrt(len/2)*math.sqrt(len/2)\n",
        "  print(s_pred, d_real['s'])\n",
        "  sum=sum+s_pred\n",
        "  ioU=abs(s_and)/abs(sum + d_real['s']-s_and)\n",
        "  print(ioU)\n",
        "  #print(ioU * 100, \"%\")\n",
        "  visual = [{\n",
        "    \"fireid\":fir['fireid'],\n",
        "    \"date\": i,\n",
        "    \"temperature\":df_pred['temperature'],\n",
        "    \"speed_wind\": df_pred_coor['speed_wind'],\n",
        "    \"s\":s_pred,\n",
        "    \"lat\":lat,\n",
        "    \"lon\":lon,\n",
        "    \"north\": df_pred_coor['north'],\n",
        "    \"south\": df_pred_coor['south'], \n",
        "    \"west\": df_pred_coor['west'],\n",
        "    \"east\": df_pred_coor['east'],\n",
        "    \"n-west\": df_pred_coor['n-west'], \n",
        "    \"n-east\": df_pred_coor['n-east'], \n",
        "    \"s-west\": df_pred_coor['s-west'],\n",
        "    \"s-east\": df_pred_coor['s-east'],\n",
        "  }]\n",
        "  visual = pd.DataFrame(visual)\n",
        "  if i==0:\n",
        "    visual.to_csv('visual.csv', sep=';', encoding='utf-8')\n",
        "  else:\n",
        "    visual.to_csv('visual.csv', sep=';', encoding='utf-8',mode='a', header=False)"
      ],
      "execution_count": 22,
      "outputs": [
        {
          "output_type": "stream",
          "name": "stdout",
          "text": [
            "19742.13479353443 0    7969.235328\n",
            "Name: s, dtype: float64\n",
            "0    9.021568e-08\n",
            "Name: s, dtype: float64\n",
            "17026.178357208584 1    26058.081777\n",
            "Name: s, dtype: float64\n",
            "1    8.897806e-08\n",
            "Name: s, dtype: float64\n"
          ]
        }
      ]
    },
    {
      "cell_type": "code",
      "metadata": {
        "colab": {
          "base_uri": "https://localhost:8080/",
          "height": 284
        },
        "id": "coPMKx3TEbEg",
        "outputId": "3075c40e-c828-4dde-c933-c125bbdea59c"
      },
      "source": [
        "vvv =  pd.read_csv('visual.csv', sep=';')\n",
        "vvv"
      ],
      "execution_count": 23,
      "outputs": [
        {
          "output_type": "execute_result",
          "data": {
            "text/html": [
              "<div>\n",
              "<style scoped>\n",
              "    .dataframe tbody tr th:only-of-type {\n",
              "        vertical-align: middle;\n",
              "    }\n",
              "\n",
              "    .dataframe tbody tr th {\n",
              "        vertical-align: top;\n",
              "    }\n",
              "\n",
              "    .dataframe thead th {\n",
              "        text-align: right;\n",
              "    }\n",
              "</style>\n",
              "<table border=\"1\" class=\"dataframe\">\n",
              "  <thead>\n",
              "    <tr style=\"text-align: right;\">\n",
              "      <th></th>\n",
              "      <th>Unnamed: 0</th>\n",
              "      <th>fireid</th>\n",
              "      <th>date</th>\n",
              "      <th>temperature</th>\n",
              "      <th>speed_wind</th>\n",
              "      <th>s</th>\n",
              "      <th>lat</th>\n",
              "      <th>lon</th>\n",
              "      <th>north</th>\n",
              "      <th>south</th>\n",
              "      <th>west</th>\n",
              "      <th>east</th>\n",
              "      <th>n-west</th>\n",
              "      <th>n-east</th>\n",
              "      <th>s-west</th>\n",
              "      <th>s-east</th>\n",
              "    </tr>\n",
              "  </thead>\n",
              "  <tbody>\n",
              "    <tr>\n",
              "      <th>0</th>\n",
              "      <td>0</td>\n",
              "      <td>0    22986\\nName: fireid, dtype: int64</td>\n",
              "      <td>0</td>\n",
              "      <td>0    29.0\\nName: temperature, dtype: float64</td>\n",
              "      <td>0    5.0\\nName: speed_wind, dtype: float64</td>\n",
              "      <td>19742.134794</td>\n",
              "      <td>53.38</td>\n",
              "      <td>111.195</td>\n",
              "      <td>0    0.0\\nName: north, dtype: float64</td>\n",
              "      <td>0    0.0\\nName: south, dtype: float64</td>\n",
              "      <td>0    1.0\\nName: west, dtype: float64</td>\n",
              "      <td>0    0.0\\nName: east, dtype: float64</td>\n",
              "      <td>0    0.0\\nName: n-west, dtype: float64</td>\n",
              "      <td>0    0.0\\nName: n-east, dtype: float64</td>\n",
              "      <td>0    0.0\\nName: s-west, dtype: float64</td>\n",
              "      <td>0    0.0\\nName: s-east, dtype: float64</td>\n",
              "    </tr>\n",
              "    <tr>\n",
              "      <th>1</th>\n",
              "      <td>0</td>\n",
              "      <td>0    22986\\nName: fireid, dtype: int64</td>\n",
              "      <td>1</td>\n",
              "      <td>1    23.0\\nName: temperature, dtype: float64</td>\n",
              "      <td>1    5.0\\nName: speed_wind, dtype: float64</td>\n",
              "      <td>17026.178357</td>\n",
              "      <td>53.38</td>\n",
              "      <td>111.195</td>\n",
              "      <td>1    0.0\\nName: north, dtype: float64</td>\n",
              "      <td>1    0.0\\nName: south, dtype: float64</td>\n",
              "      <td>1    1.0\\nName: west, dtype: float64</td>\n",
              "      <td>1    0.0\\nName: east, dtype: float64</td>\n",
              "      <td>1    0.0\\nName: n-west, dtype: float64</td>\n",
              "      <td>1    0.0\\nName: n-east, dtype: float64</td>\n",
              "      <td>1    0.0\\nName: s-west, dtype: float64</td>\n",
              "      <td>1    0.0\\nName: s-east, dtype: float64</td>\n",
              "    </tr>\n",
              "  </tbody>\n",
              "</table>\n",
              "</div>"
            ],
            "text/plain": [
              "   Unnamed: 0  ...                                  s-east\n",
              "0           0  ...  0    0.0\\nName: s-east, dtype: float64\n",
              "1           0  ...  1    0.0\\nName: s-east, dtype: float64\n",
              "\n",
              "[2 rows x 16 columns]"
            ]
          },
          "metadata": {},
          "execution_count": 23
        }
      ]
    }
  ]
}